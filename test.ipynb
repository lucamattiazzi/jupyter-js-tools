{
 "cells": [
  {
   "cell_type": "code",
   "execution_count": 1,
   "metadata": {},
   "outputs": [],
   "source": [
    "import jupyter_js_tools"
   ]
  },
  {
   "cell_type": "code",
   "execution_count": 3,
   "metadata": {},
   "outputs": [
    {
     "data": {
      "text/html": [
       "<link rel=\"stylesheet\" src='https://unpkg.com/@carbon/charts/styles.css' type='text/css'></link>\n",
       "<div id=\"carbon-container\"></div>\n"
      ],
      "text/plain": [
       "<IPython.core.display.HTML object>"
      ]
     },
     "metadata": {},
     "output_type": "display_data"
    },
    {
     "data": {
      "application/javascript": [
       "require.config({\n",
       "  paths: {\n",
       "    carbon: 'https://unpkg.com/@carbon/charts/bundle',\n",
       "  },\n",
       "})\n"
      ],
      "text/plain": [
       "<IPython.core.display.Javascript object>"
      ]
     },
     "metadata": {},
     "output_type": "display_data"
    },
    {
     "data": {
      "application/javascript": [
       "const data = JSON.parse('[{\"group\": \"gruppo1\", \"value\": 2000}, {\"group\": \"gruppo2\", \"value\": 65000}]')\n",
       "const Chart = 'PieChart'\n",
       "\n",
       "require(['carbon'], (carbon) => {\n",
       "  const options = {\n",
       "    height: '400px',\n",
       "    width: '400px',\n",
       "  }\n",
       "\n",
       "  new carbon[Chart](document.getElementById('carbon-container'), {\n",
       "    data,\n",
       "    options,\n",
       "  })\n",
       "})\n"
      ],
      "text/plain": [
       "<IPython.core.display.Javascript object>"
      ]
     },
     "metadata": {},
     "output_type": "display_data"
    }
   ],
   "source": [
    "data = [\n",
    "    { \"group\": 'gruppo1', \"value\": 2000 },\n",
    "    { \"group\": 'gruppo2', \"value\": 65000 }\n",
    "]\n",
    "\n",
    "jupyter_js_tools.carbon.pie(data)"
   ]
  },
  {
   "cell_type": "code",
   "execution_count": null,
   "metadata": {},
   "outputs": [],
   "source": [
    "%%javascript\n",
    "require.config({\n",
    "    paths: {\n",
    "        carbon: \"https://unpkg.com/@carbon/charts/bundle\"\n",
    "    }\n",
    "})"
   ]
  },
  {
   "cell_type": "code",
   "execution_count": null,
   "metadata": {},
   "outputs": [],
   "source": [
    "%%javascript\n",
    "\n",
    "(function(element) {\n",
    "    console.log(element)\n",
    "    require(['carbon'], function(carbon) {   \n",
    "        console.log(carbon.PieChart)\n",
    "    })\n",
    "})(element);"
   ]
  },
  {
   "cell_type": "code",
   "execution_count": null,
   "metadata": {},
   "outputs": [],
   "source": []
  }
 ],
 "metadata": {
  "kernelspec": {
   "display_name": "Python 3",
   "language": "python",
   "name": "python3"
  },
  "language_info": {
   "codemirror_mode": {
    "name": "ipython",
    "version": 3
   },
   "file_extension": ".py",
   "mimetype": "text/x-python",
   "name": "python",
   "nbconvert_exporter": "python",
   "pygments_lexer": "ipython3",
   "version": "3.8.5"
  }
 },
 "nbformat": 4,
 "nbformat_minor": 4
}
